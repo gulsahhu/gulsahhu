{
  "nbformat": 4,
  "nbformat_minor": 0,
  "metadata": {
    "colab": {
      "name": "GulsahUgur/Bootcamp-Homework1.ipynb",
      "provenance": [],
      "collapsed_sections": [],
      "authorship_tag": "ABX9TyOXCz7ZDErJ74Bn+Y9LbyqX",
      "include_colab_link": true
    },
    "kernelspec": {
      "name": "python3",
      "display_name": "Python 3"
    },
    "language_info": {
      "name": "python"
    }
  },
  "cells": [
    {
      "cell_type": "markdown",
      "metadata": {
        "id": "view-in-github",
        "colab_type": "text"
      },
      "source": [
        "<a href=\"https://colab.research.google.com/github/gulsahhu/gulsahhu/blob/main/GulsahUgur_Bootcamp_Homework1.ipynb\" target=\"_parent\"><img src=\"https://colab.research.google.com/assets/colab-badge.svg\" alt=\"Open In Colab\"/></a>"
      ]
    },
    {
      "cell_type": "code",
      "metadata": {
        "id": "iuHBFcTjUxuF"
      },
      "source": [
        "#Soru 1. Pandas kütüphanesiyle bir DataFrame oluşturup ve içine Levels of Measurements'ları nominal,ordinal,interval ve ratio olan kolonlar ekleyelim."
      ],
      "execution_count": null,
      "outputs": []
    },
    {
      "cell_type": "code",
      "metadata": {
        "id": "xII_AzWNEKFe"
      },
      "source": [
        "import numpy as np\n",
        "import pandas as pd"
      ],
      "execution_count": null,
      "outputs": []
    },
    {
      "cell_type": "code",
      "metadata": {
        "id": "VFLOkdZnEyqm"
      },
      "source": [
        "data = {\n",
        "    'nominal':[\"Kadın\",\"Erkek\",\"Kadın\",\"Kadın\",\"Kadın\",\"Erkek\"],\n",
        "    'ordinal':[\"İlkokul\",\"İlkokul\",\"Lise\",\"Üniversite\",\"Lise\",\"İlkokul\"],\n",
        "    'interval':[\"5\",\"3\",\"1\",\"2\",\"4\",\"2\"],\n",
        "    'ratio':[\"21\",\"29\",\"25\",\"22\",\"22\",\"26\"]\n",
        "}\n",
        "indeksler =[1,2,3,4,5,6]\n"
      ],
      "execution_count": null,
      "outputs": []
    },
    {
      "cell_type": "code",
      "metadata": {
        "id": "rk_XvoGmJaDd"
      },
      "source": [
        "data=pd.DataFrame(data=data,index=indeksler)"
      ],
      "execution_count": null,
      "outputs": []
    },
    {
      "cell_type": "code",
      "metadata": {
        "colab": {
          "base_uri": "https://localhost:8080/",
          "height": 237
        },
        "id": "hSoyLwXYJmIT",
        "outputId": "69593b7a-f06f-46d5-a33b-29351d671513"
      },
      "source": [
        "# Veri setimiz; 20-30 yaş arasındaki kişilerin bir ürüne verdikleri puanın (1-5) eğitim düzeyiyle ilişkisi olup olmadığının araştırılması için oluşturuluyor.Gerçek bir veri seti değildir.\n",
        "data"
      ],
      "execution_count": null,
      "outputs": [
        {
          "output_type": "execute_result",
          "data": {
            "text/html": [
              "<div>\n",
              "<style scoped>\n",
              "    .dataframe tbody tr th:only-of-type {\n",
              "        vertical-align: middle;\n",
              "    }\n",
              "\n",
              "    .dataframe tbody tr th {\n",
              "        vertical-align: top;\n",
              "    }\n",
              "\n",
              "    .dataframe thead th {\n",
              "        text-align: right;\n",
              "    }\n",
              "</style>\n",
              "<table border=\"1\" class=\"dataframe\">\n",
              "  <thead>\n",
              "    <tr style=\"text-align: right;\">\n",
              "      <th></th>\n",
              "      <th>nominal</th>\n",
              "      <th>ordinal</th>\n",
              "      <th>interval</th>\n",
              "      <th>ratio</th>\n",
              "    </tr>\n",
              "  </thead>\n",
              "  <tbody>\n",
              "    <tr>\n",
              "      <th>1</th>\n",
              "      <td>Kadın</td>\n",
              "      <td>İlkokul</td>\n",
              "      <td>5</td>\n",
              "      <td>21</td>\n",
              "    </tr>\n",
              "    <tr>\n",
              "      <th>2</th>\n",
              "      <td>Erkek</td>\n",
              "      <td>İlkokul</td>\n",
              "      <td>3</td>\n",
              "      <td>29</td>\n",
              "    </tr>\n",
              "    <tr>\n",
              "      <th>3</th>\n",
              "      <td>Kadın</td>\n",
              "      <td>Lise</td>\n",
              "      <td>1</td>\n",
              "      <td>25</td>\n",
              "    </tr>\n",
              "    <tr>\n",
              "      <th>4</th>\n",
              "      <td>Kadın</td>\n",
              "      <td>Üniversite</td>\n",
              "      <td>2</td>\n",
              "      <td>22</td>\n",
              "    </tr>\n",
              "    <tr>\n",
              "      <th>5</th>\n",
              "      <td>Kadın</td>\n",
              "      <td>Lise</td>\n",
              "      <td>4</td>\n",
              "      <td>22</td>\n",
              "    </tr>\n",
              "    <tr>\n",
              "      <th>6</th>\n",
              "      <td>Erkek</td>\n",
              "      <td>İlkokul</td>\n",
              "      <td>2</td>\n",
              "      <td>26</td>\n",
              "    </tr>\n",
              "  </tbody>\n",
              "</table>\n",
              "</div>"
            ],
            "text/plain": [
              "  nominal     ordinal interval ratio\n",
              "1   Kadın     İlkokul        5    21\n",
              "2   Erkek     İlkokul        3    29\n",
              "3   Kadın        Lise        1    25\n",
              "4   Kadın  Üniversite        2    22\n",
              "5   Kadın        Lise        4    22\n",
              "6   Erkek     İlkokul        2    26"
            ]
          },
          "metadata": {},
          "execution_count": 13
        }
      ]
    },
    {
      "cell_type": "code",
      "metadata": {
        "id": "qpVwGMQWKU7d"
      },
      "source": [
        "#Soru 2.Ekli data üzerindeki aşağıda yer alan kolonların count,mean,std, min,%25,%50,%75,max değerlerini ve IQR metoduyla outlier kalan veri sayısını çıkartıp,bu değerleri sözel ve karşılaştırmaları olarak yorumlayalım."
      ],
      "execution_count": null,
      "outputs": []
    },
    {
      "cell_type": "code",
      "metadata": {
        "id": "CWX14YT5K5tm"
      },
      "source": [
        "!pip install -U -q PyDrive\n",
        " \n",
        "from pydrive.auth import GoogleAuth\n",
        " \n",
        "from pydrive.drive import GoogleDrive\n",
        " \n",
        "from google.colab import auth\n",
        " \n",
        "from oauth2client.client import GoogleCredentials\n",
        " \n",
        "auth.authenticate_user()\n",
        " \n",
        "gauth = GoogleAuth()\n",
        " \n",
        "gauth.credentials = GoogleCredentials.get_application_default()\n",
        " \n",
        "drive = GoogleDrive(gauth)"
      ],
      "execution_count": null,
      "outputs": []
    },
    {
      "cell_type": "code",
      "metadata": {
        "colab": {
          "base_uri": "https://localhost:8080/"
        },
        "id": "zaddxgupNkK0",
        "outputId": "1aee13c0-c616-4bcc-d114-ad28e7727961"
      },
      "source": [
        "from google.colab import drive\n",
        "drive.mount('/content/drive')"
      ],
      "execution_count": null,
      "outputs": [
        {
          "output_type": "stream",
          "name": "stdout",
          "text": [
            "Mounted at /content/drive\n"
          ]
        }
      ]
    },
    {
      "cell_type": "code",
      "metadata": {
        "id": "m9PCYSzPNnNP"
      },
      "source": [
        "import pandas as pd\n",
        "df=pd.read_csv('/content/drive/MyDrive/data.csv')"
      ],
      "execution_count": null,
      "outputs": []
    },
    {
      "cell_type": "code",
      "metadata": {
        "colab": {
          "base_uri": "https://localhost:8080/",
          "height": 461
        },
        "id": "0DiKNjVGOQk9",
        "outputId": "fca4557b-5b11-414d-dfb2-e10eb88b4c83"
      },
      "source": [
        "df"
      ],
      "execution_count": null,
      "outputs": [
        {
          "output_type": "execute_result",
          "data": {
            "text/html": [
              "<div>\n",
              "<style scoped>\n",
              "    .dataframe tbody tr th:only-of-type {\n",
              "        vertical-align: middle;\n",
              "    }\n",
              "\n",
              "    .dataframe tbody tr th {\n",
              "        vertical-align: top;\n",
              "    }\n",
              "\n",
              "    .dataframe thead th {\n",
              "        text-align: right;\n",
              "    }\n",
              "</style>\n",
              "<table border=\"1\" class=\"dataframe\">\n",
              "  <thead>\n",
              "    <tr style=\"text-align: right;\">\n",
              "      <th></th>\n",
              "      <th>id</th>\n",
              "      <th>diagnosis</th>\n",
              "      <th>radius_mean</th>\n",
              "      <th>texture_mean</th>\n",
              "      <th>perimeter_mean</th>\n",
              "      <th>area_mean</th>\n",
              "      <th>smoothness_mean</th>\n",
              "      <th>compactness_mean</th>\n",
              "      <th>concavity_mean</th>\n",
              "      <th>concave points_mean</th>\n",
              "      <th>symmetry_mean</th>\n",
              "      <th>fractal_dimension_mean</th>\n",
              "      <th>radius_se</th>\n",
              "      <th>texture_se</th>\n",
              "      <th>perimeter_se</th>\n",
              "      <th>area_se</th>\n",
              "      <th>smoothness_se</th>\n",
              "      <th>compactness_se</th>\n",
              "      <th>concavity_se</th>\n",
              "      <th>concave points_se</th>\n",
              "      <th>symmetry_se</th>\n",
              "      <th>fractal_dimension_se</th>\n",
              "      <th>radius_worst</th>\n",
              "      <th>texture_worst</th>\n",
              "      <th>perimeter_worst</th>\n",
              "      <th>area_worst</th>\n",
              "      <th>smoothness_worst</th>\n",
              "      <th>compactness_worst</th>\n",
              "      <th>concavity_worst</th>\n",
              "      <th>concave points_worst</th>\n",
              "      <th>symmetry_worst</th>\n",
              "      <th>fractal_dimension_worst</th>\n",
              "      <th>Unnamed: 32</th>\n",
              "    </tr>\n",
              "  </thead>\n",
              "  <tbody>\n",
              "    <tr>\n",
              "      <th>0</th>\n",
              "      <td>842302</td>\n",
              "      <td>M</td>\n",
              "      <td>17.99</td>\n",
              "      <td>10.38</td>\n",
              "      <td>122.80</td>\n",
              "      <td>1001.0</td>\n",
              "      <td>0.11840</td>\n",
              "      <td>0.27760</td>\n",
              "      <td>0.30010</td>\n",
              "      <td>0.14710</td>\n",
              "      <td>0.2419</td>\n",
              "      <td>0.07871</td>\n",
              "      <td>1.0950</td>\n",
              "      <td>0.9053</td>\n",
              "      <td>8.589</td>\n",
              "      <td>153.40</td>\n",
              "      <td>0.006399</td>\n",
              "      <td>0.04904</td>\n",
              "      <td>0.05373</td>\n",
              "      <td>0.01587</td>\n",
              "      <td>0.03003</td>\n",
              "      <td>0.006193</td>\n",
              "      <td>25.380</td>\n",
              "      <td>17.33</td>\n",
              "      <td>184.60</td>\n",
              "      <td>2019.0</td>\n",
              "      <td>0.16220</td>\n",
              "      <td>0.66560</td>\n",
              "      <td>0.7119</td>\n",
              "      <td>0.2654</td>\n",
              "      <td>0.4601</td>\n",
              "      <td>0.11890</td>\n",
              "      <td>NaN</td>\n",
              "    </tr>\n",
              "    <tr>\n",
              "      <th>1</th>\n",
              "      <td>842517</td>\n",
              "      <td>M</td>\n",
              "      <td>20.57</td>\n",
              "      <td>17.77</td>\n",
              "      <td>132.90</td>\n",
              "      <td>1326.0</td>\n",
              "      <td>0.08474</td>\n",
              "      <td>0.07864</td>\n",
              "      <td>0.08690</td>\n",
              "      <td>0.07017</td>\n",
              "      <td>0.1812</td>\n",
              "      <td>0.05667</td>\n",
              "      <td>0.5435</td>\n",
              "      <td>0.7339</td>\n",
              "      <td>3.398</td>\n",
              "      <td>74.08</td>\n",
              "      <td>0.005225</td>\n",
              "      <td>0.01308</td>\n",
              "      <td>0.01860</td>\n",
              "      <td>0.01340</td>\n",
              "      <td>0.01389</td>\n",
              "      <td>0.003532</td>\n",
              "      <td>24.990</td>\n",
              "      <td>23.41</td>\n",
              "      <td>158.80</td>\n",
              "      <td>1956.0</td>\n",
              "      <td>0.12380</td>\n",
              "      <td>0.18660</td>\n",
              "      <td>0.2416</td>\n",
              "      <td>0.1860</td>\n",
              "      <td>0.2750</td>\n",
              "      <td>0.08902</td>\n",
              "      <td>NaN</td>\n",
              "    </tr>\n",
              "    <tr>\n",
              "      <th>2</th>\n",
              "      <td>84300903</td>\n",
              "      <td>M</td>\n",
              "      <td>19.69</td>\n",
              "      <td>21.25</td>\n",
              "      <td>130.00</td>\n",
              "      <td>1203.0</td>\n",
              "      <td>0.10960</td>\n",
              "      <td>0.15990</td>\n",
              "      <td>0.19740</td>\n",
              "      <td>0.12790</td>\n",
              "      <td>0.2069</td>\n",
              "      <td>0.05999</td>\n",
              "      <td>0.7456</td>\n",
              "      <td>0.7869</td>\n",
              "      <td>4.585</td>\n",
              "      <td>94.03</td>\n",
              "      <td>0.006150</td>\n",
              "      <td>0.04006</td>\n",
              "      <td>0.03832</td>\n",
              "      <td>0.02058</td>\n",
              "      <td>0.02250</td>\n",
              "      <td>0.004571</td>\n",
              "      <td>23.570</td>\n",
              "      <td>25.53</td>\n",
              "      <td>152.50</td>\n",
              "      <td>1709.0</td>\n",
              "      <td>0.14440</td>\n",
              "      <td>0.42450</td>\n",
              "      <td>0.4504</td>\n",
              "      <td>0.2430</td>\n",
              "      <td>0.3613</td>\n",
              "      <td>0.08758</td>\n",
              "      <td>NaN</td>\n",
              "    </tr>\n",
              "    <tr>\n",
              "      <th>3</th>\n",
              "      <td>84348301</td>\n",
              "      <td>M</td>\n",
              "      <td>11.42</td>\n",
              "      <td>20.38</td>\n",
              "      <td>77.58</td>\n",
              "      <td>386.1</td>\n",
              "      <td>0.14250</td>\n",
              "      <td>0.28390</td>\n",
              "      <td>0.24140</td>\n",
              "      <td>0.10520</td>\n",
              "      <td>0.2597</td>\n",
              "      <td>0.09744</td>\n",
              "      <td>0.4956</td>\n",
              "      <td>1.1560</td>\n",
              "      <td>3.445</td>\n",
              "      <td>27.23</td>\n",
              "      <td>0.009110</td>\n",
              "      <td>0.07458</td>\n",
              "      <td>0.05661</td>\n",
              "      <td>0.01867</td>\n",
              "      <td>0.05963</td>\n",
              "      <td>0.009208</td>\n",
              "      <td>14.910</td>\n",
              "      <td>26.50</td>\n",
              "      <td>98.87</td>\n",
              "      <td>567.7</td>\n",
              "      <td>0.20980</td>\n",
              "      <td>0.86630</td>\n",
              "      <td>0.6869</td>\n",
              "      <td>0.2575</td>\n",
              "      <td>0.6638</td>\n",
              "      <td>0.17300</td>\n",
              "      <td>NaN</td>\n",
              "    </tr>\n",
              "    <tr>\n",
              "      <th>4</th>\n",
              "      <td>84358402</td>\n",
              "      <td>M</td>\n",
              "      <td>20.29</td>\n",
              "      <td>14.34</td>\n",
              "      <td>135.10</td>\n",
              "      <td>1297.0</td>\n",
              "      <td>0.10030</td>\n",
              "      <td>0.13280</td>\n",
              "      <td>0.19800</td>\n",
              "      <td>0.10430</td>\n",
              "      <td>0.1809</td>\n",
              "      <td>0.05883</td>\n",
              "      <td>0.7572</td>\n",
              "      <td>0.7813</td>\n",
              "      <td>5.438</td>\n",
              "      <td>94.44</td>\n",
              "      <td>0.011490</td>\n",
              "      <td>0.02461</td>\n",
              "      <td>0.05688</td>\n",
              "      <td>0.01885</td>\n",
              "      <td>0.01756</td>\n",
              "      <td>0.005115</td>\n",
              "      <td>22.540</td>\n",
              "      <td>16.67</td>\n",
              "      <td>152.20</td>\n",
              "      <td>1575.0</td>\n",
              "      <td>0.13740</td>\n",
              "      <td>0.20500</td>\n",
              "      <td>0.4000</td>\n",
              "      <td>0.1625</td>\n",
              "      <td>0.2364</td>\n",
              "      <td>0.07678</td>\n",
              "      <td>NaN</td>\n",
              "    </tr>\n",
              "    <tr>\n",
              "      <th>...</th>\n",
              "      <td>...</td>\n",
              "      <td>...</td>\n",
              "      <td>...</td>\n",
              "      <td>...</td>\n",
              "      <td>...</td>\n",
              "      <td>...</td>\n",
              "      <td>...</td>\n",
              "      <td>...</td>\n",
              "      <td>...</td>\n",
              "      <td>...</td>\n",
              "      <td>...</td>\n",
              "      <td>...</td>\n",
              "      <td>...</td>\n",
              "      <td>...</td>\n",
              "      <td>...</td>\n",
              "      <td>...</td>\n",
              "      <td>...</td>\n",
              "      <td>...</td>\n",
              "      <td>...</td>\n",
              "      <td>...</td>\n",
              "      <td>...</td>\n",
              "      <td>...</td>\n",
              "      <td>...</td>\n",
              "      <td>...</td>\n",
              "      <td>...</td>\n",
              "      <td>...</td>\n",
              "      <td>...</td>\n",
              "      <td>...</td>\n",
              "      <td>...</td>\n",
              "      <td>...</td>\n",
              "      <td>...</td>\n",
              "      <td>...</td>\n",
              "      <td>...</td>\n",
              "    </tr>\n",
              "    <tr>\n",
              "      <th>564</th>\n",
              "      <td>926424</td>\n",
              "      <td>M</td>\n",
              "      <td>21.56</td>\n",
              "      <td>22.39</td>\n",
              "      <td>142.00</td>\n",
              "      <td>1479.0</td>\n",
              "      <td>0.11100</td>\n",
              "      <td>0.11590</td>\n",
              "      <td>0.24390</td>\n",
              "      <td>0.13890</td>\n",
              "      <td>0.1726</td>\n",
              "      <td>0.05623</td>\n",
              "      <td>1.1760</td>\n",
              "      <td>1.2560</td>\n",
              "      <td>7.673</td>\n",
              "      <td>158.70</td>\n",
              "      <td>0.010300</td>\n",
              "      <td>0.02891</td>\n",
              "      <td>0.05198</td>\n",
              "      <td>0.02454</td>\n",
              "      <td>0.01114</td>\n",
              "      <td>0.004239</td>\n",
              "      <td>25.450</td>\n",
              "      <td>26.40</td>\n",
              "      <td>166.10</td>\n",
              "      <td>2027.0</td>\n",
              "      <td>0.14100</td>\n",
              "      <td>0.21130</td>\n",
              "      <td>0.4107</td>\n",
              "      <td>0.2216</td>\n",
              "      <td>0.2060</td>\n",
              "      <td>0.07115</td>\n",
              "      <td>NaN</td>\n",
              "    </tr>\n",
              "    <tr>\n",
              "      <th>565</th>\n",
              "      <td>926682</td>\n",
              "      <td>M</td>\n",
              "      <td>20.13</td>\n",
              "      <td>28.25</td>\n",
              "      <td>131.20</td>\n",
              "      <td>1261.0</td>\n",
              "      <td>0.09780</td>\n",
              "      <td>0.10340</td>\n",
              "      <td>0.14400</td>\n",
              "      <td>0.09791</td>\n",
              "      <td>0.1752</td>\n",
              "      <td>0.05533</td>\n",
              "      <td>0.7655</td>\n",
              "      <td>2.4630</td>\n",
              "      <td>5.203</td>\n",
              "      <td>99.04</td>\n",
              "      <td>0.005769</td>\n",
              "      <td>0.02423</td>\n",
              "      <td>0.03950</td>\n",
              "      <td>0.01678</td>\n",
              "      <td>0.01898</td>\n",
              "      <td>0.002498</td>\n",
              "      <td>23.690</td>\n",
              "      <td>38.25</td>\n",
              "      <td>155.00</td>\n",
              "      <td>1731.0</td>\n",
              "      <td>0.11660</td>\n",
              "      <td>0.19220</td>\n",
              "      <td>0.3215</td>\n",
              "      <td>0.1628</td>\n",
              "      <td>0.2572</td>\n",
              "      <td>0.06637</td>\n",
              "      <td>NaN</td>\n",
              "    </tr>\n",
              "    <tr>\n",
              "      <th>566</th>\n",
              "      <td>926954</td>\n",
              "      <td>M</td>\n",
              "      <td>16.60</td>\n",
              "      <td>28.08</td>\n",
              "      <td>108.30</td>\n",
              "      <td>858.1</td>\n",
              "      <td>0.08455</td>\n",
              "      <td>0.10230</td>\n",
              "      <td>0.09251</td>\n",
              "      <td>0.05302</td>\n",
              "      <td>0.1590</td>\n",
              "      <td>0.05648</td>\n",
              "      <td>0.4564</td>\n",
              "      <td>1.0750</td>\n",
              "      <td>3.425</td>\n",
              "      <td>48.55</td>\n",
              "      <td>0.005903</td>\n",
              "      <td>0.03731</td>\n",
              "      <td>0.04730</td>\n",
              "      <td>0.01557</td>\n",
              "      <td>0.01318</td>\n",
              "      <td>0.003892</td>\n",
              "      <td>18.980</td>\n",
              "      <td>34.12</td>\n",
              "      <td>126.70</td>\n",
              "      <td>1124.0</td>\n",
              "      <td>0.11390</td>\n",
              "      <td>0.30940</td>\n",
              "      <td>0.3403</td>\n",
              "      <td>0.1418</td>\n",
              "      <td>0.2218</td>\n",
              "      <td>0.07820</td>\n",
              "      <td>NaN</td>\n",
              "    </tr>\n",
              "    <tr>\n",
              "      <th>567</th>\n",
              "      <td>927241</td>\n",
              "      <td>M</td>\n",
              "      <td>20.60</td>\n",
              "      <td>29.33</td>\n",
              "      <td>140.10</td>\n",
              "      <td>1265.0</td>\n",
              "      <td>0.11780</td>\n",
              "      <td>0.27700</td>\n",
              "      <td>0.35140</td>\n",
              "      <td>0.15200</td>\n",
              "      <td>0.2397</td>\n",
              "      <td>0.07016</td>\n",
              "      <td>0.7260</td>\n",
              "      <td>1.5950</td>\n",
              "      <td>5.772</td>\n",
              "      <td>86.22</td>\n",
              "      <td>0.006522</td>\n",
              "      <td>0.06158</td>\n",
              "      <td>0.07117</td>\n",
              "      <td>0.01664</td>\n",
              "      <td>0.02324</td>\n",
              "      <td>0.006185</td>\n",
              "      <td>25.740</td>\n",
              "      <td>39.42</td>\n",
              "      <td>184.60</td>\n",
              "      <td>1821.0</td>\n",
              "      <td>0.16500</td>\n",
              "      <td>0.86810</td>\n",
              "      <td>0.9387</td>\n",
              "      <td>0.2650</td>\n",
              "      <td>0.4087</td>\n",
              "      <td>0.12400</td>\n",
              "      <td>NaN</td>\n",
              "    </tr>\n",
              "    <tr>\n",
              "      <th>568</th>\n",
              "      <td>92751</td>\n",
              "      <td>B</td>\n",
              "      <td>7.76</td>\n",
              "      <td>24.54</td>\n",
              "      <td>47.92</td>\n",
              "      <td>181.0</td>\n",
              "      <td>0.05263</td>\n",
              "      <td>0.04362</td>\n",
              "      <td>0.00000</td>\n",
              "      <td>0.00000</td>\n",
              "      <td>0.1587</td>\n",
              "      <td>0.05884</td>\n",
              "      <td>0.3857</td>\n",
              "      <td>1.4280</td>\n",
              "      <td>2.548</td>\n",
              "      <td>19.15</td>\n",
              "      <td>0.007189</td>\n",
              "      <td>0.00466</td>\n",
              "      <td>0.00000</td>\n",
              "      <td>0.00000</td>\n",
              "      <td>0.02676</td>\n",
              "      <td>0.002783</td>\n",
              "      <td>9.456</td>\n",
              "      <td>30.37</td>\n",
              "      <td>59.16</td>\n",
              "      <td>268.6</td>\n",
              "      <td>0.08996</td>\n",
              "      <td>0.06444</td>\n",
              "      <td>0.0000</td>\n",
              "      <td>0.0000</td>\n",
              "      <td>0.2871</td>\n",
              "      <td>0.07039</td>\n",
              "      <td>NaN</td>\n",
              "    </tr>\n",
              "  </tbody>\n",
              "</table>\n",
              "<p>569 rows × 33 columns</p>\n",
              "</div>"
            ],
            "text/plain": [
              "           id diagnosis  ...  fractal_dimension_worst  Unnamed: 32\n",
              "0      842302         M  ...                  0.11890          NaN\n",
              "1      842517         M  ...                  0.08902          NaN\n",
              "2    84300903         M  ...                  0.08758          NaN\n",
              "3    84348301         M  ...                  0.17300          NaN\n",
              "4    84358402         M  ...                  0.07678          NaN\n",
              "..        ...       ...  ...                      ...          ...\n",
              "564    926424         M  ...                  0.07115          NaN\n",
              "565    926682         M  ...                  0.06637          NaN\n",
              "566    926954         M  ...                  0.07820          NaN\n",
              "567    927241         M  ...                  0.12400          NaN\n",
              "568     92751         B  ...                  0.07039          NaN\n",
              "\n",
              "[569 rows x 33 columns]"
            ]
          },
          "metadata": {},
          "execution_count": 35
        }
      ]
    },
    {
      "cell_type": "code",
      "metadata": {
        "colab": {
          "base_uri": "https://localhost:8080/",
          "height": 337
        },
        "id": "q11tUZGTPVhW",
        "outputId": "6ab01d50-1528-419c-9e24-97e90a0bde23"
      },
      "source": [
        "df.describe()"
      ],
      "execution_count": null,
      "outputs": [
        {
          "output_type": "execute_result",
          "data": {
            "text/html": [
              "<div>\n",
              "<style scoped>\n",
              "    .dataframe tbody tr th:only-of-type {\n",
              "        vertical-align: middle;\n",
              "    }\n",
              "\n",
              "    .dataframe tbody tr th {\n",
              "        vertical-align: top;\n",
              "    }\n",
              "\n",
              "    .dataframe thead th {\n",
              "        text-align: right;\n",
              "    }\n",
              "</style>\n",
              "<table border=\"1\" class=\"dataframe\">\n",
              "  <thead>\n",
              "    <tr style=\"text-align: right;\">\n",
              "      <th></th>\n",
              "      <th>id</th>\n",
              "      <th>radius_mean</th>\n",
              "      <th>texture_mean</th>\n",
              "      <th>perimeter_mean</th>\n",
              "      <th>area_mean</th>\n",
              "      <th>smoothness_mean</th>\n",
              "      <th>compactness_mean</th>\n",
              "      <th>concavity_mean</th>\n",
              "      <th>concave points_mean</th>\n",
              "      <th>symmetry_mean</th>\n",
              "      <th>fractal_dimension_mean</th>\n",
              "      <th>radius_se</th>\n",
              "      <th>texture_se</th>\n",
              "      <th>perimeter_se</th>\n",
              "      <th>area_se</th>\n",
              "      <th>smoothness_se</th>\n",
              "      <th>compactness_se</th>\n",
              "      <th>concavity_se</th>\n",
              "      <th>concave points_se</th>\n",
              "      <th>symmetry_se</th>\n",
              "      <th>fractal_dimension_se</th>\n",
              "      <th>radius_worst</th>\n",
              "      <th>texture_worst</th>\n",
              "      <th>perimeter_worst</th>\n",
              "      <th>area_worst</th>\n",
              "      <th>smoothness_worst</th>\n",
              "      <th>compactness_worst</th>\n",
              "      <th>concavity_worst</th>\n",
              "      <th>concave points_worst</th>\n",
              "      <th>symmetry_worst</th>\n",
              "      <th>fractal_dimension_worst</th>\n",
              "      <th>Unnamed: 32</th>\n",
              "    </tr>\n",
              "  </thead>\n",
              "  <tbody>\n",
              "    <tr>\n",
              "      <th>count</th>\n",
              "      <td>5.690000e+02</td>\n",
              "      <td>569.000000</td>\n",
              "      <td>569.000000</td>\n",
              "      <td>569.000000</td>\n",
              "      <td>569.000000</td>\n",
              "      <td>569.000000</td>\n",
              "      <td>569.000000</td>\n",
              "      <td>569.000000</td>\n",
              "      <td>569.000000</td>\n",
              "      <td>569.000000</td>\n",
              "      <td>569.000000</td>\n",
              "      <td>569.000000</td>\n",
              "      <td>569.000000</td>\n",
              "      <td>569.000000</td>\n",
              "      <td>569.000000</td>\n",
              "      <td>569.000000</td>\n",
              "      <td>569.000000</td>\n",
              "      <td>569.000000</td>\n",
              "      <td>569.000000</td>\n",
              "      <td>569.000000</td>\n",
              "      <td>569.000000</td>\n",
              "      <td>569.000000</td>\n",
              "      <td>569.000000</td>\n",
              "      <td>569.000000</td>\n",
              "      <td>569.000000</td>\n",
              "      <td>569.000000</td>\n",
              "      <td>569.000000</td>\n",
              "      <td>569.000000</td>\n",
              "      <td>569.000000</td>\n",
              "      <td>569.000000</td>\n",
              "      <td>569.000000</td>\n",
              "      <td>0.0</td>\n",
              "    </tr>\n",
              "    <tr>\n",
              "      <th>mean</th>\n",
              "      <td>3.037183e+07</td>\n",
              "      <td>14.127292</td>\n",
              "      <td>19.289649</td>\n",
              "      <td>91.969033</td>\n",
              "      <td>654.889104</td>\n",
              "      <td>0.096360</td>\n",
              "      <td>0.104341</td>\n",
              "      <td>0.088799</td>\n",
              "      <td>0.048919</td>\n",
              "      <td>0.181162</td>\n",
              "      <td>0.062798</td>\n",
              "      <td>0.405172</td>\n",
              "      <td>1.216853</td>\n",
              "      <td>2.866059</td>\n",
              "      <td>40.337079</td>\n",
              "      <td>0.007041</td>\n",
              "      <td>0.025478</td>\n",
              "      <td>0.031894</td>\n",
              "      <td>0.011796</td>\n",
              "      <td>0.020542</td>\n",
              "      <td>0.003795</td>\n",
              "      <td>16.269190</td>\n",
              "      <td>25.677223</td>\n",
              "      <td>107.261213</td>\n",
              "      <td>880.583128</td>\n",
              "      <td>0.132369</td>\n",
              "      <td>0.254265</td>\n",
              "      <td>0.272188</td>\n",
              "      <td>0.114606</td>\n",
              "      <td>0.290076</td>\n",
              "      <td>0.083946</td>\n",
              "      <td>NaN</td>\n",
              "    </tr>\n",
              "    <tr>\n",
              "      <th>std</th>\n",
              "      <td>1.250206e+08</td>\n",
              "      <td>3.524049</td>\n",
              "      <td>4.301036</td>\n",
              "      <td>24.298981</td>\n",
              "      <td>351.914129</td>\n",
              "      <td>0.014064</td>\n",
              "      <td>0.052813</td>\n",
              "      <td>0.079720</td>\n",
              "      <td>0.038803</td>\n",
              "      <td>0.027414</td>\n",
              "      <td>0.007060</td>\n",
              "      <td>0.277313</td>\n",
              "      <td>0.551648</td>\n",
              "      <td>2.021855</td>\n",
              "      <td>45.491006</td>\n",
              "      <td>0.003003</td>\n",
              "      <td>0.017908</td>\n",
              "      <td>0.030186</td>\n",
              "      <td>0.006170</td>\n",
              "      <td>0.008266</td>\n",
              "      <td>0.002646</td>\n",
              "      <td>4.833242</td>\n",
              "      <td>6.146258</td>\n",
              "      <td>33.602542</td>\n",
              "      <td>569.356993</td>\n",
              "      <td>0.022832</td>\n",
              "      <td>0.157336</td>\n",
              "      <td>0.208624</td>\n",
              "      <td>0.065732</td>\n",
              "      <td>0.061867</td>\n",
              "      <td>0.018061</td>\n",
              "      <td>NaN</td>\n",
              "    </tr>\n",
              "    <tr>\n",
              "      <th>min</th>\n",
              "      <td>8.670000e+03</td>\n",
              "      <td>6.981000</td>\n",
              "      <td>9.710000</td>\n",
              "      <td>43.790000</td>\n",
              "      <td>143.500000</td>\n",
              "      <td>0.052630</td>\n",
              "      <td>0.019380</td>\n",
              "      <td>0.000000</td>\n",
              "      <td>0.000000</td>\n",
              "      <td>0.106000</td>\n",
              "      <td>0.049960</td>\n",
              "      <td>0.111500</td>\n",
              "      <td>0.360200</td>\n",
              "      <td>0.757000</td>\n",
              "      <td>6.802000</td>\n",
              "      <td>0.001713</td>\n",
              "      <td>0.002252</td>\n",
              "      <td>0.000000</td>\n",
              "      <td>0.000000</td>\n",
              "      <td>0.007882</td>\n",
              "      <td>0.000895</td>\n",
              "      <td>7.930000</td>\n",
              "      <td>12.020000</td>\n",
              "      <td>50.410000</td>\n",
              "      <td>185.200000</td>\n",
              "      <td>0.071170</td>\n",
              "      <td>0.027290</td>\n",
              "      <td>0.000000</td>\n",
              "      <td>0.000000</td>\n",
              "      <td>0.156500</td>\n",
              "      <td>0.055040</td>\n",
              "      <td>NaN</td>\n",
              "    </tr>\n",
              "    <tr>\n",
              "      <th>25%</th>\n",
              "      <td>8.692180e+05</td>\n",
              "      <td>11.700000</td>\n",
              "      <td>16.170000</td>\n",
              "      <td>75.170000</td>\n",
              "      <td>420.300000</td>\n",
              "      <td>0.086370</td>\n",
              "      <td>0.064920</td>\n",
              "      <td>0.029560</td>\n",
              "      <td>0.020310</td>\n",
              "      <td>0.161900</td>\n",
              "      <td>0.057700</td>\n",
              "      <td>0.232400</td>\n",
              "      <td>0.833900</td>\n",
              "      <td>1.606000</td>\n",
              "      <td>17.850000</td>\n",
              "      <td>0.005169</td>\n",
              "      <td>0.013080</td>\n",
              "      <td>0.015090</td>\n",
              "      <td>0.007638</td>\n",
              "      <td>0.015160</td>\n",
              "      <td>0.002248</td>\n",
              "      <td>13.010000</td>\n",
              "      <td>21.080000</td>\n",
              "      <td>84.110000</td>\n",
              "      <td>515.300000</td>\n",
              "      <td>0.116600</td>\n",
              "      <td>0.147200</td>\n",
              "      <td>0.114500</td>\n",
              "      <td>0.064930</td>\n",
              "      <td>0.250400</td>\n",
              "      <td>0.071460</td>\n",
              "      <td>NaN</td>\n",
              "    </tr>\n",
              "    <tr>\n",
              "      <th>50%</th>\n",
              "      <td>9.060240e+05</td>\n",
              "      <td>13.370000</td>\n",
              "      <td>18.840000</td>\n",
              "      <td>86.240000</td>\n",
              "      <td>551.100000</td>\n",
              "      <td>0.095870</td>\n",
              "      <td>0.092630</td>\n",
              "      <td>0.061540</td>\n",
              "      <td>0.033500</td>\n",
              "      <td>0.179200</td>\n",
              "      <td>0.061540</td>\n",
              "      <td>0.324200</td>\n",
              "      <td>1.108000</td>\n",
              "      <td>2.287000</td>\n",
              "      <td>24.530000</td>\n",
              "      <td>0.006380</td>\n",
              "      <td>0.020450</td>\n",
              "      <td>0.025890</td>\n",
              "      <td>0.010930</td>\n",
              "      <td>0.018730</td>\n",
              "      <td>0.003187</td>\n",
              "      <td>14.970000</td>\n",
              "      <td>25.410000</td>\n",
              "      <td>97.660000</td>\n",
              "      <td>686.500000</td>\n",
              "      <td>0.131300</td>\n",
              "      <td>0.211900</td>\n",
              "      <td>0.226700</td>\n",
              "      <td>0.099930</td>\n",
              "      <td>0.282200</td>\n",
              "      <td>0.080040</td>\n",
              "      <td>NaN</td>\n",
              "    </tr>\n",
              "    <tr>\n",
              "      <th>75%</th>\n",
              "      <td>8.813129e+06</td>\n",
              "      <td>15.780000</td>\n",
              "      <td>21.800000</td>\n",
              "      <td>104.100000</td>\n",
              "      <td>782.700000</td>\n",
              "      <td>0.105300</td>\n",
              "      <td>0.130400</td>\n",
              "      <td>0.130700</td>\n",
              "      <td>0.074000</td>\n",
              "      <td>0.195700</td>\n",
              "      <td>0.066120</td>\n",
              "      <td>0.478900</td>\n",
              "      <td>1.474000</td>\n",
              "      <td>3.357000</td>\n",
              "      <td>45.190000</td>\n",
              "      <td>0.008146</td>\n",
              "      <td>0.032450</td>\n",
              "      <td>0.042050</td>\n",
              "      <td>0.014710</td>\n",
              "      <td>0.023480</td>\n",
              "      <td>0.004558</td>\n",
              "      <td>18.790000</td>\n",
              "      <td>29.720000</td>\n",
              "      <td>125.400000</td>\n",
              "      <td>1084.000000</td>\n",
              "      <td>0.146000</td>\n",
              "      <td>0.339100</td>\n",
              "      <td>0.382900</td>\n",
              "      <td>0.161400</td>\n",
              "      <td>0.317900</td>\n",
              "      <td>0.092080</td>\n",
              "      <td>NaN</td>\n",
              "    </tr>\n",
              "    <tr>\n",
              "      <th>max</th>\n",
              "      <td>9.113205e+08</td>\n",
              "      <td>28.110000</td>\n",
              "      <td>39.280000</td>\n",
              "      <td>188.500000</td>\n",
              "      <td>2501.000000</td>\n",
              "      <td>0.163400</td>\n",
              "      <td>0.345400</td>\n",
              "      <td>0.426800</td>\n",
              "      <td>0.201200</td>\n",
              "      <td>0.304000</td>\n",
              "      <td>0.097440</td>\n",
              "      <td>2.873000</td>\n",
              "      <td>4.885000</td>\n",
              "      <td>21.980000</td>\n",
              "      <td>542.200000</td>\n",
              "      <td>0.031130</td>\n",
              "      <td>0.135400</td>\n",
              "      <td>0.396000</td>\n",
              "      <td>0.052790</td>\n",
              "      <td>0.078950</td>\n",
              "      <td>0.029840</td>\n",
              "      <td>36.040000</td>\n",
              "      <td>49.540000</td>\n",
              "      <td>251.200000</td>\n",
              "      <td>4254.000000</td>\n",
              "      <td>0.222600</td>\n",
              "      <td>1.058000</td>\n",
              "      <td>1.252000</td>\n",
              "      <td>0.291000</td>\n",
              "      <td>0.663800</td>\n",
              "      <td>0.207500</td>\n",
              "      <td>NaN</td>\n",
              "    </tr>\n",
              "  </tbody>\n",
              "</table>\n",
              "</div>"
            ],
            "text/plain": [
              "                 id  radius_mean  ...  fractal_dimension_worst  Unnamed: 32\n",
              "count  5.690000e+02   569.000000  ...               569.000000          0.0\n",
              "mean   3.037183e+07    14.127292  ...                 0.083946          NaN\n",
              "std    1.250206e+08     3.524049  ...                 0.018061          NaN\n",
              "min    8.670000e+03     6.981000  ...                 0.055040          NaN\n",
              "25%    8.692180e+05    11.700000  ...                 0.071460          NaN\n",
              "50%    9.060240e+05    13.370000  ...                 0.080040          NaN\n",
              "75%    8.813129e+06    15.780000  ...                 0.092080          NaN\n",
              "max    9.113205e+08    28.110000  ...                 0.207500          NaN\n",
              "\n",
              "[8 rows x 32 columns]"
            ]
          },
          "metadata": {},
          "execution_count": 42
        }
      ]
    },
    {
      "cell_type": "markdown",
      "metadata": {
        "id": "OIYElAMoQZ2O"
      },
      "source": [
        "- Veri setimiz 569 satırlık verilerden oluşmaktadır. Her bir değişken için mean(ortalama) satırına baktığımızda veriler farklı sınır aralıklarında yer aldığını görmekteyiz bu yüzden veri ön işleme aşamasında normalizasyon veya standardizasyon yaparak ölçeklendirebiliriz. Mean ve median(%50) karşılaştırılması yapıldığında radius_mean ve compactness_mean değişkenlerinde mean ve median birbiriyle aynı olmasa da yakın olduğunu gözlemlemekteyiz. Bu da aslında bize, bu iki değişkenin normal dağılıma yaklaştığını göstermekte.area_mean değişkeninde ise mean ve median arasındaki fark fazla olduğu için çarpık bir dağılım gösterdiğini söyleyebiliriz."
      ]
    },
    {
      "cell_type": "code",
      "metadata": {
        "colab": {
          "base_uri": "https://localhost:8080/"
        },
        "id": "0vBr45EGXzvd",
        "outputId": "ed9c4491-9b89-494e-fe34-9c95df0709f2"
      },
      "source": [
        "#radius_mean değişkeni için outlier hesaplama\n",
        "df_bening=df[df['diagnosis']=='B']\n",
        "df_malignant=df[df['diagnosis']=='M']\n",
        "desc=df_bening.radius_mean.describe()\n",
        "Q1=desc[4]\n",
        "Q3=desc[6]\n",
        "IQR=Q3-Q1\n",
        "lower_bound=Q1-1.5*IQR\n",
        "upper_bound=Q1+1.5*IQR\n",
        "print(\"Anything outside this range is an outlier:(\",lower_bound,\",\", upper_bound,\")\")\n",
        "df_bening[df_bening.radius_mean < lower_bound].radius_mean\n",
        "print(\"Outliers: \",df_bening[(df_bening.radius_mean < lower_bound) | (df_bening.radius_mean > upper_bound)].radius_mean.values)"
      ],
      "execution_count": null,
      "outputs": [
        {
          "output_type": "stream",
          "name": "stdout",
          "text": [
            "Anything outside this range is an outlier:( 7.645000000000001 , 14.514999999999999 )\n",
            "Outliers:  [14.64  14.62   6.981 15.1   15.71  14.95  16.84  14.97  14.97  15.27\n",
            " 15.    14.96  14.61  14.76  16.5   15.19  16.17  16.14  14.99  14.69\n",
            " 14.86  14.8   14.53  14.53  14.92  15.73  14.64  17.85  14.87  15.04\n",
            " 16.3   14.81  14.58  14.74  14.59 ]\n"
          ]
        }
      ]
    },
    {
      "cell_type": "code",
      "metadata": {
        "colab": {
          "base_uri": "https://localhost:8080/"
        },
        "id": "4V0ux_Vim-2u",
        "outputId": "bfc50d08-fbdb-43ce-9124-a51e4fec54af"
      },
      "source": [
        "#area_mean değişkeni için outlier hesaplama\n",
        "df_bening=df[df['diagnosis']=='B']\n",
        "df_malignant=df[df['diagnosis']=='M']\n",
        "desc=df_bening.area_mean.describe()\n",
        "Q1=desc[4]\n",
        "Q3=desc[6]\n",
        "IQR=Q3-Q1\n",
        "lower_bound=Q1-1.5*IQR\n",
        "upper_bound=Q1+1.5*IQR\n",
        "print(\"Anything outside this range is an outlier:(\",lower_bound,\",\", upper_bound,\")\")\n",
        "df_bening[df_bening.area_mean < lower_bound].area_mean\n",
        "print(\"Outliers: \",df_bening[(df_bening.area_mean < lower_bound) | (df_bening.area_mean > upper_bound)].area_mean.values)"
      ],
      "execution_count": null,
      "outputs": [
        {
          "output_type": "stream",
          "name": "stdout",
          "text": [
            "Anything outside this range is an outlier:( 118.84999999999997 , 637.55 )\n",
            "Outliers:  [651.9 662.7 640.7 674.5 761.7 689.5 640.1 880.2 690.2 685.9 725.5 641.2\n",
            " 684.5 651.  687.3 664.9 641.2 668.7 838.1 711.8 788.5 800.  693.7 656.1\n",
            " 673.7 674.8 659.7 644.2 646.1 686.9 747.2 666.  992.1 680.9 689.4 819.8\n",
            " 680.7 658.8 656.4 668.6 657.1]\n"
          ]
        }
      ]
    },
    {
      "cell_type": "code",
      "metadata": {
        "colab": {
          "base_uri": "https://localhost:8080/"
        },
        "id": "iqlWSYrFnVxY",
        "outputId": "29311452-261b-4cb5-ea0a-c197746ea0f3"
      },
      "source": [
        "#compactness_mean\t değişkeni için outlier hesaplama\n",
        "df_bening=df[df['diagnosis']=='B']\n",
        "df_malignant=df[df['diagnosis']=='M']\n",
        "desc=df_bening.compactness_mean\t.describe()\n",
        "Q1=desc[4]\n",
        "Q3=desc[6]\n",
        "IQR=Q3-Q1\n",
        "lower_bound=Q1-1.5*IQR\n",
        "upper_bound=Q1+1.5*IQR\n",
        "print(\"Anything outside this range is an outlier:(\",lower_bound,\",\", upper_bound,\")\")\n",
        "df_bening[df_bening.compactness_mean\t < lower_bound].compactness_mean\t\n",
        "print(\"Outliers: \",df_bening[(df_bening.compactness_mean\t < lower_bound) | (df_bening.compactness_mean\t > upper_bound)].compactness_mean\t.values)"
      ],
      "execution_count": null,
      "outputs": [
        {
          "output_type": "stream",
          "name": "stdout",
          "text": [
            "Anything outside this range is an outlier:( -0.00727499999999999 , 0.118515 )\n",
            "Outliers:  [0.127  0.1413 0.1531 0.1535 0.1339 0.1209 0.2233 0.1303 0.1243 0.1807\n",
            " 0.1296 0.1305 0.1599 0.1294 0.1483 0.1192 0.1325 0.1346 0.1289 0.1676\n",
            " 0.1972 0.1206 0.1304 0.1438 0.166  0.1297 0.1836 0.1316 0.1223 0.1483\n",
            " 0.1299 0.1511 0.1334 0.1364 0.2239 0.2204 0.1661 0.1225 0.1552 0.1199\n",
            " 0.123  0.133 ]\n"
          ]
        }
      ]
    },
    {
      "cell_type": "code",
      "metadata": {
        "id": "MCIYwFVsopFI"
      },
      "source": [
        "#Soru 3.Ekli data üzerindeki aşağıda yer alan kolonların birbirleriyle olan korelasyonlarını,kovaryanslarını,Pearson Correlation Coefficientlarını,Spearman Rank Coefficienlarını ve Effect Size'larını bularak sözel ve karşılaştırmalı olarak yorumların.\n",
        "#Kolonlar: radius_mean,area_mean,compactness_mean"
      ],
      "execution_count": null,
      "outputs": []
    },
    {
      "cell_type": "code",
      "metadata": {
        "colab": {
          "base_uri": "https://localhost:8080/",
          "height": 143
        },
        "id": "RgTgpEC4qO3s",
        "outputId": "90bde5a2-204f-4ffb-bf67-ff19cde8e23d"
      },
      "source": [
        "#Kovaryans\n",
        "df = df.loc[:,['radius_mean','area_mean','compactness_mean']]\n",
        "df.cov()"
      ],
      "execution_count": null,
      "outputs": [
        {
          "output_type": "execute_result",
          "data": {
            "text/html": [
              "<div>\n",
              "<style scoped>\n",
              "    .dataframe tbody tr th:only-of-type {\n",
              "        vertical-align: middle;\n",
              "    }\n",
              "\n",
              "    .dataframe tbody tr th {\n",
              "        vertical-align: top;\n",
              "    }\n",
              "\n",
              "    .dataframe thead th {\n",
              "        text-align: right;\n",
              "    }\n",
              "</style>\n",
              "<table border=\"1\" class=\"dataframe\">\n",
              "  <thead>\n",
              "    <tr style=\"text-align: right;\">\n",
              "      <th></th>\n",
              "      <th>radius_mean</th>\n",
              "      <th>area_mean</th>\n",
              "      <th>compactness_mean</th>\n",
              "    </tr>\n",
              "  </thead>\n",
              "  <tbody>\n",
              "    <tr>\n",
              "      <th>radius_mean</th>\n",
              "      <td>12.418920</td>\n",
              "      <td>1224.483409</td>\n",
              "      <td>0.094197</td>\n",
              "    </tr>\n",
              "    <tr>\n",
              "      <th>area_mean</th>\n",
              "      <td>1224.483409</td>\n",
              "      <td>123843.554318</td>\n",
              "      <td>9.264931</td>\n",
              "    </tr>\n",
              "    <tr>\n",
              "      <th>compactness_mean</th>\n",
              "      <td>0.094197</td>\n",
              "      <td>9.264931</td>\n",
              "      <td>0.002789</td>\n",
              "    </tr>\n",
              "  </tbody>\n",
              "</table>\n",
              "</div>"
            ],
            "text/plain": [
              "                  radius_mean      area_mean  compactness_mean\n",
              "radius_mean         12.418920    1224.483409          0.094197\n",
              "area_mean         1224.483409  123843.554318          9.264931\n",
              "compactness_mean     0.094197       9.264931          0.002789"
            ]
          },
          "metadata": {},
          "execution_count": 20
        }
      ]
    },
    {
      "cell_type": "markdown",
      "metadata": {
        "id": "20DQeBzQqzCM"
      },
      "source": [
        "- radius_mean,area_mean ve compactness_mean değişkenlerinin kovaryanslarını incelediğimizde radius_mean ile area_mean değişkenleri arasında aynı yönde bir ilişki olduğunu görüyoruz.radius_mean ile compactness_mean arasındaki ilişki tam 0 olmadığı için değişkenler arasında yine bir ilişki olduğunu söylenebilir.Bunun yanında area_mean ile compactness_mean arasında da bir ilişki olduğunu söylenebilir."
      ]
    },
    {
      "cell_type": "code",
      "metadata": {
        "colab": {
          "base_uri": "https://localhost:8080/",
          "height": 143
        },
        "id": "9vq1kGvAsiu6",
        "outputId": "4acdd586-1049-4605-e3a6-028003433f24"
      },
      "source": [
        "#Korelasyon\n",
        "df.corr()"
      ],
      "execution_count": null,
      "outputs": [
        {
          "output_type": "execute_result",
          "data": {
            "text/html": [
              "<div>\n",
              "<style scoped>\n",
              "    .dataframe tbody tr th:only-of-type {\n",
              "        vertical-align: middle;\n",
              "    }\n",
              "\n",
              "    .dataframe tbody tr th {\n",
              "        vertical-align: top;\n",
              "    }\n",
              "\n",
              "    .dataframe thead th {\n",
              "        text-align: right;\n",
              "    }\n",
              "</style>\n",
              "<table border=\"1\" class=\"dataframe\">\n",
              "  <thead>\n",
              "    <tr style=\"text-align: right;\">\n",
              "      <th></th>\n",
              "      <th>radius_mean</th>\n",
              "      <th>area_mean</th>\n",
              "      <th>compactness_mean</th>\n",
              "    </tr>\n",
              "  </thead>\n",
              "  <tbody>\n",
              "    <tr>\n",
              "      <th>radius_mean</th>\n",
              "      <td>1.000000</td>\n",
              "      <td>0.987357</td>\n",
              "      <td>0.506124</td>\n",
              "    </tr>\n",
              "    <tr>\n",
              "      <th>area_mean</th>\n",
              "      <td>0.987357</td>\n",
              "      <td>1.000000</td>\n",
              "      <td>0.498502</td>\n",
              "    </tr>\n",
              "    <tr>\n",
              "      <th>compactness_mean</th>\n",
              "      <td>0.506124</td>\n",
              "      <td>0.498502</td>\n",
              "      <td>1.000000</td>\n",
              "    </tr>\n",
              "  </tbody>\n",
              "</table>\n",
              "</div>"
            ],
            "text/plain": [
              "                  radius_mean  area_mean  compactness_mean\n",
              "radius_mean          1.000000   0.987357          0.506124\n",
              "area_mean            0.987357   1.000000          0.498502\n",
              "compactness_mean     0.506124   0.498502          1.000000"
            ]
          },
          "metadata": {},
          "execution_count": 21
        }
      ]
    },
    {
      "cell_type": "markdown",
      "metadata": {
        "id": "9J3bbarysuJb"
      },
      "source": [
        "- radius_mean,area_mean ve compactness_mean değişkenlerinin korelasyonlarını incelediğimizde radius_mean ile area_mean arasında çok kuvvetli bir doğrusal ilişkinin varlığından söz edebiliriz.radius_mean ile compactness_mean değişkenlerini incelediğimizde orta-kuvvetli doğrusal ilişkinin varlığından söz edebiliriz.area_mean ile compactness_mean arasındaki ilişki düşük kuvvetli bir doğrusal ilişkinin varlığından söz edebiliriz. Genel olarak baktığımızda compactness_mean değişkenimiz diğer değişkenlerimizle yüksek korelasyonlu bir ilişki içinde olmadığını görmekteyiz."
      ]
    },
    {
      "cell_type": "code",
      "metadata": {
        "colab": {
          "base_uri": "https://localhost:8080/",
          "height": 143
        },
        "id": "73D5VQkHylYB",
        "outputId": "922d3604-b03d-4ec5-b10e-dc3758049d32"
      },
      "source": [
        "#Pearson Korelasyon\n",
        "df.corr(method='pearson')"
      ],
      "execution_count": null,
      "outputs": [
        {
          "output_type": "execute_result",
          "data": {
            "text/html": [
              "<div>\n",
              "<style scoped>\n",
              "    .dataframe tbody tr th:only-of-type {\n",
              "        vertical-align: middle;\n",
              "    }\n",
              "\n",
              "    .dataframe tbody tr th {\n",
              "        vertical-align: top;\n",
              "    }\n",
              "\n",
              "    .dataframe thead th {\n",
              "        text-align: right;\n",
              "    }\n",
              "</style>\n",
              "<table border=\"1\" class=\"dataframe\">\n",
              "  <thead>\n",
              "    <tr style=\"text-align: right;\">\n",
              "      <th></th>\n",
              "      <th>radius_mean</th>\n",
              "      <th>area_mean</th>\n",
              "      <th>compactness_mean</th>\n",
              "    </tr>\n",
              "  </thead>\n",
              "  <tbody>\n",
              "    <tr>\n",
              "      <th>radius_mean</th>\n",
              "      <td>1.000000</td>\n",
              "      <td>0.987357</td>\n",
              "      <td>0.506124</td>\n",
              "    </tr>\n",
              "    <tr>\n",
              "      <th>area_mean</th>\n",
              "      <td>0.987357</td>\n",
              "      <td>1.000000</td>\n",
              "      <td>0.498502</td>\n",
              "    </tr>\n",
              "    <tr>\n",
              "      <th>compactness_mean</th>\n",
              "      <td>0.506124</td>\n",
              "      <td>0.498502</td>\n",
              "      <td>1.000000</td>\n",
              "    </tr>\n",
              "  </tbody>\n",
              "</table>\n",
              "</div>"
            ],
            "text/plain": [
              "                  radius_mean  area_mean  compactness_mean\n",
              "radius_mean          1.000000   0.987357          0.506124\n",
              "area_mean            0.987357   1.000000          0.498502\n",
              "compactness_mean     0.506124   0.498502          1.000000"
            ]
          },
          "metadata": {},
          "execution_count": 22
        }
      ]
    },
    {
      "cell_type": "code",
      "metadata": {
        "colab": {
          "base_uri": "https://localhost:8080/",
          "height": 143
        },
        "id": "mH2pCptsyr5b",
        "outputId": "ff4326d2-9534-4ddf-90aa-5954d121c066"
      },
      "source": [
        "#Spearman Korelasyon\n",
        "df.corr(method='spearman')"
      ],
      "execution_count": null,
      "outputs": [
        {
          "output_type": "execute_result",
          "data": {
            "text/html": [
              "<div>\n",
              "<style scoped>\n",
              "    .dataframe tbody tr th:only-of-type {\n",
              "        vertical-align: middle;\n",
              "    }\n",
              "\n",
              "    .dataframe tbody tr th {\n",
              "        vertical-align: top;\n",
              "    }\n",
              "\n",
              "    .dataframe thead th {\n",
              "        text-align: right;\n",
              "    }\n",
              "</style>\n",
              "<table border=\"1\" class=\"dataframe\">\n",
              "  <thead>\n",
              "    <tr style=\"text-align: right;\">\n",
              "      <th></th>\n",
              "      <th>radius_mean</th>\n",
              "      <th>area_mean</th>\n",
              "      <th>compactness_mean</th>\n",
              "    </tr>\n",
              "  </thead>\n",
              "  <tbody>\n",
              "    <tr>\n",
              "      <th>radius_mean</th>\n",
              "      <td>1.000000</td>\n",
              "      <td>0.999602</td>\n",
              "      <td>0.497578</td>\n",
              "    </tr>\n",
              "    <tr>\n",
              "      <th>area_mean</th>\n",
              "      <td>0.999602</td>\n",
              "      <td>1.000000</td>\n",
              "      <td>0.488988</td>\n",
              "    </tr>\n",
              "    <tr>\n",
              "      <th>compactness_mean</th>\n",
              "      <td>0.497578</td>\n",
              "      <td>0.488988</td>\n",
              "      <td>1.000000</td>\n",
              "    </tr>\n",
              "  </tbody>\n",
              "</table>\n",
              "</div>"
            ],
            "text/plain": [
              "                  radius_mean  area_mean  compactness_mean\n",
              "radius_mean          1.000000   0.999602          0.497578\n",
              "area_mean            0.999602   1.000000          0.488988\n",
              "compactness_mean     0.497578   0.488988          1.000000"
            ]
          },
          "metadata": {},
          "execution_count": 23
        }
      ]
    },
    {
      "cell_type": "code",
      "metadata": {
        "colab": {
          "base_uri": "https://localhost:8080/"
        },
        "id": "_ZKsgxoO-6ic",
        "outputId": "6ace6a03-083a-4c08-869e-041de8246b62"
      },
      "source": [
        "!pip install researchpy\n"
      ],
      "execution_count": null,
      "outputs": [
        {
          "output_type": "stream",
          "name": "stdout",
          "text": [
            "Collecting researchpy\n",
            "  Downloading researchpy-0.3.2-py3-none-any.whl (15 kB)\n",
            "Requirement already satisfied: scipy in /usr/local/lib/python3.7/dist-packages (from researchpy) (1.4.1)\n",
            "Requirement already satisfied: numpy in /usr/local/lib/python3.7/dist-packages (from researchpy) (1.19.5)\n",
            "Requirement already satisfied: pandas in /usr/local/lib/python3.7/dist-packages (from researchpy) (1.1.5)\n",
            "Requirement already satisfied: statsmodels in /usr/local/lib/python3.7/dist-packages (from researchpy) (0.10.2)\n",
            "Requirement already satisfied: patsy in /usr/local/lib/python3.7/dist-packages (from researchpy) (0.5.1)\n",
            "Requirement already satisfied: pytz>=2017.2 in /usr/local/lib/python3.7/dist-packages (from pandas->researchpy) (2018.9)\n",
            "Requirement already satisfied: python-dateutil>=2.7.3 in /usr/local/lib/python3.7/dist-packages (from pandas->researchpy) (2.8.2)\n",
            "Requirement already satisfied: six>=1.5 in /usr/local/lib/python3.7/dist-packages (from python-dateutil>=2.7.3->pandas->researchpy) (1.15.0)\n",
            "Installing collected packages: researchpy\n",
            "Successfully installed researchpy-0.3.2\n"
          ]
        }
      ]
    },
    {
      "cell_type": "code",
      "metadata": {
        "id": "huBrwMDh_UQO"
      },
      "source": [
        "#Effect Size\n",
        "import researchpy"
      ],
      "execution_count": null,
      "outputs": []
    },
    {
      "cell_type": "code",
      "metadata": {
        "colab": {
          "base_uri": "https://localhost:8080/"
        },
        "id": "l8vdTs4e_Xpw",
        "outputId": "a37fa976-66ed-454c-b478-41458fdaab34"
      },
      "source": [
        "researchpy.ttest(df['radius_mean'], df['area_mean'])"
      ],
      "execution_count": null,
      "outputs": [
        {
          "output_type": "execute_result",
          "data": {
            "text/plain": [
              "(      Variable       N        Mean  ...         SE   95% Conf.    Interval\n",
              " 0  radius_mean   569.0   14.127292  ...   0.147736   13.837117   14.417467\n",
              " 1    area_mean   569.0  654.889104  ...  14.753008  625.911994  683.866213\n",
              " 2     combined  1138.0  334.508198  ...  12.026907  310.910773  358.105623\n",
              " \n",
              " [3 rows x 7 columns],                         Independent t-test    results\n",
              " 0  Difference (radius_mean - area_mean) =   -640.7618\n",
              " 1                    Degrees of freedom =   1136.0000\n",
              " 2                                     t =    -43.4304\n",
              " 3                 Two side test p value =      0.0000\n",
              " 4                Difference < 0 p value =      0.0000\n",
              " 5                Difference > 0 p value =      1.0000\n",
              " 6                             Cohen's d =     -2.5749\n",
              " 7                             Hedge's g =     -2.5732\n",
              " 8                         Glass's delta =   -181.8255\n",
              " 9                           Pearson's r =      0.7900)"
            ]
          },
          "metadata": {},
          "execution_count": 45
        }
      ]
    },
    {
      "cell_type": "markdown",
      "metadata": {
        "id": "FQp8j1nWG-Nt"
      },
      "source": [
        "- radius_mean ve area_mean arasında ki etki büyüklüğünü incelediğimizde Cohen's d değeri -2.5749 olduğunu görmekteyiz. Bu değer 0.2'den küçük olduğu için etki büyüklüğünün zayıf olduğunu söyleyebiliriz.Yani iki değişken grubu arasında zayıf düzeyde anlamlı bir fark vardır."
      ]
    },
    {
      "cell_type": "code",
      "metadata": {
        "colab": {
          "base_uri": "https://localhost:8080/"
        },
        "id": "H8EEe0LMF-Sn",
        "outputId": "05232a8c-08ae-4a87-c46c-d8cb2c48fcea"
      },
      "source": [
        "researchpy.ttest(df['radius_mean'], df['compactness_mean'])"
      ],
      "execution_count": null,
      "outputs": [
        {
          "output_type": "execute_result",
          "data": {
            "text/plain": [
              "(           Variable       N       Mean  ...        SE  95% Conf.   Interval\n",
              " 0       radius_mean   569.0  14.127292  ...  0.147736  13.837117  14.417467\n",
              " 1  compactness_mean   569.0   0.104341  ...  0.002214   0.099992   0.108690\n",
              " 2          combined  1138.0   7.115816  ...  0.220658   6.682873   7.548760\n",
              " \n",
              " [3 rows x 7 columns],\n",
              "                                Independent t-test    results\n",
              " 0  Difference (radius_mean - compactness_mean) =     14.0230\n",
              " 1                           Degrees of freedom =   1136.0000\n",
              " 2                                            t =     94.9084\n",
              " 3                        Two side test p value =      0.0000\n",
              " 4                       Difference < 0 p value =      1.0000\n",
              " 5                       Difference > 0 p value =      0.0000\n",
              " 6                                    Cohen's d =      5.6268\n",
              " 7                                    Hedge's g =      5.6231\n",
              " 8                                Glass's delta =      3.9792\n",
              " 9                                  Pearson's r =      0.9423)"
            ]
          },
          "metadata": {},
          "execution_count": 43
        }
      ]
    },
    {
      "cell_type": "markdown",
      "metadata": {
        "id": "voYwhN1yHgO4"
      },
      "source": [
        "- radius_mean ve compactness_mean arasında ki etki büyüklüğünü incelediğimizde Cohen's d değeri 5.6268 olduğunu görmekteyiz. Bu değer 0.8'den büyük olduğu için etki büyüklüğünün kuvvetli olduğunu söyleyebiliriz.Yani iki değişken grubu arasında kuvvetli düzeyde anlamlı bir fark vardır."
      ]
    },
    {
      "cell_type": "code",
      "metadata": {
        "colab": {
          "base_uri": "https://localhost:8080/"
        },
        "id": "hfS8egtHGHCl",
        "outputId": "d8c698c5-5977-4da2-fc86-5eebc8a9bdcc"
      },
      "source": [
        "researchpy.ttest(df['area_mean'], df['compactness_mean'])"
      ],
      "execution_count": null,
      "outputs": [
        {
          "output_type": "execute_result",
          "data": {
            "text/plain": [
              "(           Variable       N        Mean  ...         SE   95% Conf.    Interval\n",
              " 0         area_mean   569.0  654.889104  ...  14.753008  625.911994  683.866213\n",
              " 1  compactness_mean   569.0    0.104341  ...   0.002214    0.099992    0.108690\n",
              " 2          combined  1138.0  327.496722  ...  12.191622  303.576119  351.417326\n",
              " \n",
              " [3 rows x 7 columns],\n",
              "                              Independent t-test    results\n",
              " 0  Difference (area_mean - compactness_mean) =    654.7848\n",
              " 1                         Degrees of freedom =   1136.0000\n",
              " 2                                          t =     44.3831\n",
              " 3                      Two side test p value =      0.0000\n",
              " 4                     Difference < 0 p value =      1.0000\n",
              " 5                     Difference > 0 p value =      0.0000\n",
              " 6                                  Cohen's d =      2.6313\n",
              " 7                                  Hedge's g =      2.6296\n",
              " 8                              Glass's delta =      1.8606\n",
              " 9                                Pearson's r =      0.7964)"
            ]
          },
          "metadata": {},
          "execution_count": 44
        }
      ]
    },
    {
      "cell_type": "markdown",
      "metadata": {
        "id": "QRevwHbWH7IG"
      },
      "source": [
        "-  area_mean ve compactness_mean arasında ki etki büyüklüğünü incelediğimizde Cohen's d değeri 2.6313 olduğunu görmekteyiz. Bu değer 0.8'den büyük olduğu için etki büyüklüğünün kuvvetli olduğunu söyleyebiliriz. Yani iki değişken grubu arasında kuvvetli düzeyde anlamlı bir fark vardır."
      ]
    },
    {
      "cell_type": "code",
      "metadata": {
        "id": "B0RUYgSEKXuQ"
      },
      "source": [
        "# Soru 4.Bayes Teoreminin gerçek hayatta karşımıza çıkan ve kullanılan örneklerinden 5 tane bulunuz"
      ],
      "execution_count": null,
      "outputs": []
    },
    {
      "cell_type": "markdown",
      "metadata": {
        "id": "MOcO2eI9L4O_"
      },
      "source": [
        "**Bayes Teoremi**\n",
        "-  Yakın ve yaygın olarak kullanılan bir uygulama, spam filtrelemesiydi. Bayes teoremi, bir e-posta mesajının spam olup olmadığının tahmin etmesine yardımcı olur.\n",
        "\n",
        "- İkinci Dünya Savaşı sırasında, İngiliz kod yazarı Alan Turing, “kırılmaz” Enigma kodunun çatlamasına yardımcı olmak için Bayes teorisine dayanan bir sistem geliştirdi.Bir mesajdaki bir dizi harfin tahmin edilmesi için sistemi kullanmış, bu da olasılıkların hesaplanmasına ve yeni mesajların geldiği varsayımlarının gözden geçirilmesine yol açmıştır.\n",
        "\n",
        "- Hava durumu tahminlerinde Bayes Teoremi kullanılır. Havanın yağmurlu veya bulutlu bulutlu olup olmadığına dair tahminler bu teorem ile yapılabilir.\n",
        "\n",
        "- Tek gen hastalıklarında taşıyıcılık risklerinin hesaplanmasında da Bayes teoremi kullanılır. Bayes teoremi,genetik hastalıkların tekrarlama risklerinin hesaplanmasında en yakın olasılığı bulmak için doğru bilgilerin hızlı kombinasyonunun sağlanmasında yardımcı olur.\n",
        "\n",
        "- Şifre kontrolü uygulamaları, konuşmacı tanıma sistemleri.\n"
      ]
    },
    {
      "cell_type": "code",
      "metadata": {
        "id": "Qh0KCCMWCpan"
      },
      "source": [
        "# Soru 5.Poisson,Normal,Gamma,Weilbull ve Logaritmik dağılımların benzer ve farklı yönlerini bir tablo halinde çıkaralım."
      ],
      "execution_count": null,
      "outputs": []
    },
    {
      "cell_type": "markdown",
      "metadata": {
        "id": "CaGMeBa_L5ly"
      },
      "source": [
        "![dagilimlar.PNG](data:image/png;base64,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)"
      ]
    }
  ]
}